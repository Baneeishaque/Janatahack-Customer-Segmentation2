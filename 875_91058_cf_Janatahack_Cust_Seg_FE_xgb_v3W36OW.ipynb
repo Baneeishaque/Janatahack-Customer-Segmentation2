{
  "nbformat": 4,
  "nbformat_minor": 0,
  "metadata": {
    "colab": {
      "name": "875_91058_cf_Janatahack_Cust_Seg_FE_xgb_v3W36OW.ipynb",
      "provenance": [],
      "collapsed_sections": [],
      "toc_visible": true
    },
    "kernelspec": {
      "name": "python3",
      "display_name": "Python 3"
    },
    "accelerator": "GPU"
  },
  "cells": [
    {
      "cell_type": "code",
      "metadata": {
        "colab": {
          "base_uri": "https://localhost:8080/"
        },
        "id": "iTaq8WaOQ8G8",
        "outputId": "61c615ab-01fd-4d34-b4e7-12a95a109e06"
      },
      "source": [
        "!pip install featuretools"
      ],
      "execution_count": 6,
      "outputs": [
        {
          "output_type": "stream",
          "text": [
            "Requirement already satisfied: featuretools in /usr/local/lib/python3.6/dist-packages (0.23.1)\n",
            "Requirement already satisfied: psutil>=5.4.8 in /usr/local/lib/python3.6/dist-packages (from featuretools) (5.4.8)\n",
            "Requirement already satisfied: tqdm>=4.32.0 in /usr/local/lib/python3.6/dist-packages (from featuretools) (4.41.1)\n",
            "Requirement already satisfied: distributed>=2.12.0 in /usr/local/lib/python3.6/dist-packages (from featuretools) (2021.1.1)\n",
            "Requirement already satisfied: scipy>=0.13.3 in /usr/local/lib/python3.6/dist-packages (from featuretools) (1.4.1)\n",
            "Requirement already satisfied: pyyaml>=3.12 in /usr/local/lib/python3.6/dist-packages (from featuretools) (3.13)\n",
            "Requirement already satisfied: dask[dataframe]>=2.12.0 in /usr/local/lib/python3.6/dist-packages (from featuretools) (2.12.0)\n",
            "Requirement already satisfied: click>=7.0.0 in /usr/local/lib/python3.6/dist-packages (from featuretools) (7.1.2)\n",
            "Requirement already satisfied: cloudpickle>=0.4.0 in /usr/local/lib/python3.6/dist-packages (from featuretools) (1.3.0)\n",
            "Requirement already satisfied: numpy>=1.13.3 in /usr/local/lib/python3.6/dist-packages (from featuretools) (1.19.5)\n",
            "Requirement already satisfied: pandas!=1.1.0,!=1.1.1,<2.0.0,>=0.24.1 in /usr/local/lib/python3.6/dist-packages (from featuretools) (1.1.5)\n",
            "Requirement already satisfied: contextvars; python_version < \"3.7\" in /usr/local/lib/python3.6/dist-packages (from distributed>=2.12.0->featuretools) (2.4)\n",
            "Requirement already satisfied: tornado>=5; python_version < \"3.8\" in /usr/local/lib/python3.6/dist-packages (from distributed>=2.12.0->featuretools) (5.1.1)\n",
            "Requirement already satisfied: tblib>=1.6.0 in /usr/local/lib/python3.6/dist-packages (from distributed>=2.12.0->featuretools) (1.7.0)\n",
            "Requirement already satisfied: sortedcontainers!=2.0.0,!=2.0.1 in /usr/local/lib/python3.6/dist-packages (from distributed>=2.12.0->featuretools) (2.3.0)\n",
            "Requirement already satisfied: setuptools in /usr/local/lib/python3.6/dist-packages (from distributed>=2.12.0->featuretools) (51.3.3)\n",
            "Requirement already satisfied: toolz>=0.8.2 in /usr/local/lib/python3.6/dist-packages (from distributed>=2.12.0->featuretools) (0.11.1)\n",
            "Requirement already satisfied: zict>=0.1.3 in /usr/local/lib/python3.6/dist-packages (from distributed>=2.12.0->featuretools) (2.0.0)\n",
            "Requirement already satisfied: msgpack>=0.6.0 in /usr/local/lib/python3.6/dist-packages (from distributed>=2.12.0->featuretools) (1.0.2)\n",
            "Requirement already satisfied: fsspec>=0.6.0; extra == \"dataframe\" in /usr/local/lib/python3.6/dist-packages (from dask[dataframe]>=2.12.0->featuretools) (0.8.5)\n",
            "Requirement already satisfied: partd>=0.3.10; extra == \"dataframe\" in /usr/local/lib/python3.6/dist-packages (from dask[dataframe]>=2.12.0->featuretools) (1.1.0)\n",
            "Requirement already satisfied: pytz>=2017.2 in /usr/local/lib/python3.6/dist-packages (from pandas!=1.1.0,!=1.1.1,<2.0.0,>=0.24.1->featuretools) (2018.9)\n",
            "Requirement already satisfied: python-dateutil>=2.7.3 in /usr/local/lib/python3.6/dist-packages (from pandas!=1.1.0,!=1.1.1,<2.0.0,>=0.24.1->featuretools) (2.8.1)\n",
            "Requirement already satisfied: immutables>=0.9 in /usr/local/lib/python3.6/dist-packages (from contextvars; python_version < \"3.7\"->distributed>=2.12.0->featuretools) (0.14)\n",
            "Requirement already satisfied: heapdict in /usr/local/lib/python3.6/dist-packages (from zict>=0.1.3->distributed>=2.12.0->featuretools) (1.0.1)\n",
            "Requirement already satisfied: locket in /usr/local/lib/python3.6/dist-packages (from partd>=0.3.10; extra == \"dataframe\"->dask[dataframe]>=2.12.0->featuretools) (0.2.1)\n",
            "Requirement already satisfied: six>=1.5 in /usr/local/lib/python3.6/dist-packages (from python-dateutil>=2.7.3->pandas!=1.1.0,!=1.1.1,<2.0.0,>=0.24.1->featuretools) (1.15.0)\n"
          ],
          "name": "stdout"
        }
      ]
    },
    {
      "cell_type": "code",
      "metadata": {
        "id": "VcyrqwuLlzq7"
      },
      "source": [
        "import featuretools as ft\n",
        "import numpy as np\n",
        "import pandas as pd\n",
        "import os"
      ],
      "execution_count": 7,
      "outputs": []
    },
    {
      "cell_type": "code",
      "metadata": {
        "id": "k4295el2y89X"
      },
      "source": [
        "from xgboost import XGBClassifier\n",
        "from sklearn.neural_network import MLPClassifier\n",
        "from sklearn.model_selection import train_test_split\n",
        "from sklearn.metrics import accuracy_score\n",
        "from sklearn.metrics import precision_score\n",
        "from sklearn.metrics import recall_score\n",
        "from sklearn.metrics import roc_auc_score\n",
        "from sklearn.metrics import f1_score\n",
        "import pandas as pd\n",
        "from sklearn import preprocessing\n",
        "from imblearn.over_sampling import SMOTE\n",
        "\n",
        "from xgboost import plot_importance\n",
        "import numpy as np\n",
        "from sklearn.metrics import confusion_matrix\n",
        "from sklearn.preprocessing import StandardScaler\n",
        "from sklearn.preprocessing import MinMaxScaler\n",
        "\n",
        "import os\n",
        "pd.set_option('display.max_columns', 500)\n",
        "pd.set_option('display.max_rows', 500)"
      ],
      "execution_count": 8,
      "outputs": []
    },
    {
      "cell_type": "code",
      "metadata": {
        "id": "w0jQzRQfv99O"
      },
      "source": [
        "target = 'Segmentation'\n",
        "key    = 'ID'"
      ],
      "execution_count": 9,
      "outputs": []
    },
    {
      "cell_type": "code",
      "metadata": {
        "id": "IT-wfEt3m6vm",
        "colab": {
          "base_uri": "https://localhost:8080/"
        },
        "outputId": "8be8984b-ab4c-46c7-8986-f3fcbd95c733"
      },
      "source": [
        "master = pd.read_csv('master_feat.csv')\n",
        "master.shape, master[key].nunique()"
      ],
      "execution_count": 10,
      "outputs": [
        {
          "output_type": "execute_result",
          "data": {
            "text/plain": [
              "((8068, 11), 8068)"
            ]
          },
          "metadata": {
            "tags": []
          },
          "execution_count": 10
        }
      ]
    },
    {
      "cell_type": "code",
      "metadata": {
        "id": "MLUZjPYNnBpd"
      },
      "source": [
        "master.set_index(key, inplace = True)"
      ],
      "execution_count": 11,
      "outputs": []
    },
    {
      "cell_type": "code",
      "metadata": {
        "id": "OBvTiMT9nZIN"
      },
      "source": [
        "catVars = ['Gender','Ever_Married','Graduated','Profession','Spending_Score','Var_1']\n",
        "numVars = ['Age','Work_Experience','Family_Size']"
      ],
      "execution_count": 12,
      "outputs": []
    },
    {
      "cell_type": "code",
      "metadata": {
        "id": "FlCZaAc9rQdQ"
      },
      "source": [
        "master[catVars] = master[catVars].astype(str)"
      ],
      "execution_count": 13,
      "outputs": []
    },
    {
      "cell_type": "markdown",
      "metadata": {
        "id": "XJFTxtY1vwO8"
      },
      "source": [
        "### One-hot"
      ]
    },
    {
      "cell_type": "code",
      "metadata": {
        "id": "hjofjyrav0JH"
      },
      "source": [
        "# master.dtypes"
      ],
      "execution_count": 14,
      "outputs": []
    },
    {
      "cell_type": "code",
      "metadata": {
        "id": "2_l8qHP7vrPy"
      },
      "source": [
        "categorical_features_indices = np.where((master.dtypes != 'int16') & (master.dtypes != 'int8') & (master.dtypes != 'int64') & (master.dtypes != 'float16') & (master.dtypes != 'float64'))[0]\n",
        "catVars = list(set(master.iloc[:,categorical_features_indices].columns.tolist()) - set([key, target]))"
      ],
      "execution_count": 15,
      "outputs": []
    },
    {
      "cell_type": "code",
      "metadata": {
        "id": "rINnd1jEvraG"
      },
      "source": [
        "one_hot = pd.get_dummies(master[catVars])\n",
        "\n",
        "master = master.drop(catVars,axis = 1)\n",
        "master = master.join(one_hot)"
      ],
      "execution_count": 16,
      "outputs": []
    },
    {
      "cell_type": "code",
      "metadata": {
        "id": "3kmRs3krvrgb"
      },
      "source": [
        "train = master[master[target] != '-1']\n",
        "test  = master[master[target] == '-1']"
      ],
      "execution_count": 17,
      "outputs": []
    },
    {
      "cell_type": "code",
      "metadata": {
        "id": "09o98tLfvrm4",
        "colab": {
          "base_uri": "https://localhost:8080/"
        },
        "outputId": "f8f5cadd-1a7e-458a-e81f-9485e9dd6fc4"
      },
      "source": [
        "del master\n",
        "import gc\n",
        "gc.collect()"
      ],
      "execution_count": 18,
      "outputs": [
        {
          "output_type": "execute_result",
          "data": {
            "text/plain": [
              "0"
            ]
          },
          "metadata": {
            "tags": []
          },
          "execution_count": 18
        }
      ]
    },
    {
      "cell_type": "code",
      "metadata": {
        "id": "HcS0x9WOvryC"
      },
      "source": [
        "from sklearn.model_selection import train_test_split"
      ],
      "execution_count": 19,
      "outputs": []
    },
    {
      "cell_type": "code",
      "metadata": {
        "id": "w5EX0iy6yTw1"
      },
      "source": [
        "train1, val1 = train_test_split(train, test_size=0.2, random_state=7)"
      ],
      "execution_count": 20,
      "outputs": []
    },
    {
      "cell_type": "code",
      "metadata": {
        "id": "W86maHtfyjxe",
        "colab": {
          "base_uri": "https://localhost:8080/"
        },
        "outputId": "8832683c-0522-4aee-d9bd-6240eb8d5224"
      },
      "source": [
        "train1.shape, val1.shape"
      ],
      "execution_count": 21,
      "outputs": [
        {
          "output_type": "execute_result",
          "data": {
            "text/plain": [
              "((6454, 33), (1614, 33))"
            ]
          },
          "metadata": {
            "tags": []
          },
          "execution_count": 21
        }
      ]
    },
    {
      "cell_type": "code",
      "metadata": {
        "id": "qhNs59FayuAm"
      },
      "source": [
        "X_train = train1.drop(target, axis =1)\n",
        "X_val   = val1.drop(target, axis =1)\n",
        "X_test  = test.drop(target, axis =1)\n",
        "\n",
        "y_train = train1[target]\n",
        "y_val = val1[target]\n",
        "y_test = test[target]"
      ],
      "execution_count": 22,
      "outputs": []
    },
    {
      "cell_type": "code",
      "metadata": {
        "id": "LQkucjgHy1fN",
        "colab": {
          "base_uri": "https://localhost:8080/"
        },
        "outputId": "421f77e6-5bbd-472a-c604-b5b1271fbd0b"
      },
      "source": [
        "###Hypertune the model intensively with a 5 fold cross validation strategy.\n",
        "##first grid search for max_depth,min_child_weight then fix those and search for rest in same fashion\n",
        "### parameter scale_pos_weight is quite important in case of imbalanced dataset\n",
        "\n",
        "from sklearn.model_selection import GridSearchCV\n",
        "param_test1 = {\n",
        "  # 'min_child_weight':[1,50,100],\n",
        "  'max_depth': [5,6,7],\n",
        "  'n_estimators':[150,200,300,400],\n",
        "  # 'scale_pos_weight':[1,2,3,4],\n",
        "  'colsample_bytree':[0.7,0.8], \n",
        "  'subsample':[0.7,0.8]\n",
        "}\n",
        "\n",
        "gsearch1 = GridSearchCV(estimator = XGBClassifier(tree_method='gpu_hist',predictor='gpu_predictor', learning_rate=0.1, n_estimators=1000, max_depth=5,\n",
        " min_child_weight=1, gamma=0, subsample=0.8, colsample_bytree=0.8, nthread=-1, scale_pos_weight=3,seed=27), \n",
        " param_grid = param_test1, scoring=['accuracy'],n_jobs=-1,iid=False, cv=5,refit='accuracy', verbose =100)\n",
        "\n",
        "gsearch1.fit(X_train, y_train)\n",
        "# print(gsearch1.grid_scores_)\n",
        "print(\"gsearch1.best_params_\",gsearch1.best_params_)\n",
        "print(\"gsearch1.best_score_\",gsearch1.best_score_)"
      ],
      "execution_count": null,
      "outputs": [
        {
          "output_type": "stream",
          "text": [
            "Fitting 5 folds for each of 48 candidates, totalling 240 fits\n",
            "[Parallel(n_jobs=-1)]: Using backend LokyBackend with 2 concurrent workers.\n",
            "[Parallel(n_jobs=-1)]: Done   1 tasks      | elapsed:    9.9s\n",
            "[Parallel(n_jobs=-1)]: Done   2 tasks      | elapsed:    9.9s\n",
            "[Parallel(n_jobs=-1)]: Done   3 tasks      | elapsed:   17.7s\n",
            "[Parallel(n_jobs=-1)]: Done   4 tasks      | elapsed:   17.7s\n",
            "[Parallel(n_jobs=-1)]: Done   5 tasks      | elapsed:   25.4s\n",
            "[Parallel(n_jobs=-1)]: Done   6 tasks      | elapsed:   25.4s\n",
            "[Parallel(n_jobs=-1)]: Done   7 tasks      | elapsed:   33.0s\n",
            "[Parallel(n_jobs=-1)]: Done   8 tasks      | elapsed:   33.1s\n",
            "[Parallel(n_jobs=-1)]: Done   9 tasks      | elapsed:   40.8s\n",
            "[Parallel(n_jobs=-1)]: Done  10 tasks      | elapsed:   40.8s\n",
            "[Parallel(n_jobs=-1)]: Done  11 tasks      | elapsed:   51.0s\n",
            "[Parallel(n_jobs=-1)]: Done  12 tasks      | elapsed:   51.1s\n",
            "[Parallel(n_jobs=-1)]: Done  13 tasks      | elapsed:  1.0min\n",
            "[Parallel(n_jobs=-1)]: Done  14 tasks      | elapsed:  1.0min\n"
          ],
          "name": "stdout"
        }
      ]
    },
    {
      "cell_type": "code",
      "metadata": {
        "id": "_tTLxsCezKXE"
      },
      "source": [
        "%%time\n",
        "\n",
        "modelXg = XGBClassifier(tree_method='gpu_hist',predictor='gpu_predictor',\\\n",
        "                        learning_rate=0.1, n_estimators=100, max_depth=5,min_child_weight=100,\n",
        "                        nthread=-1, subsample=0.8, colsample_bytree=0.7, scoring = 'accuracy',seed=7)\n",
        "modelXg.fit(X_train, y_train)\n",
        "# scale_pos_weight=3"
      ],
      "execution_count": null,
      "outputs": []
    },
    {
      "cell_type": "code",
      "metadata": {
        "id": "OEwuxFl2aaB0"
      },
      "source": [
        "feature_important  = modelXg.get_booster().get_score(importance_type='gain')\n",
        "\n",
        "keys = list(feature_important.keys())\n",
        "values = list(feature_important.values())\n",
        "\n",
        "data = pd.DataFrame(data=values, index=keys, columns=[\"score\"]).sort_values(by = \"score\")\n",
        "# data.plot(kind='barh')\n",
        "data.sort_values('score', ascending = False)"
      ],
      "execution_count": null,
      "outputs": []
    },
    {
      "cell_type": "code",
      "metadata": {
        "id": "7-ofO4M3zboK"
      },
      "source": [
        "# predictions AUC on train and validation sets\n",
        "print(\"Train Acc:\", accuracy_score(y_train, modelXg.predict(X_train)))\n",
        "print(\"Val Acc:\",   accuracy_score(y_val,   modelXg.predict(X_val)))"
      ],
      "execution_count": null,
      "outputs": []
    },
    {
      "cell_type": "code",
      "metadata": {
        "id": "estxTk46zxri"
      },
      "source": [
        "pd.DataFrame(modelXg.predict_proba(X_val)).to_csv('check.csv', index =False)"
      ],
      "execution_count": null,
      "outputs": []
    },
    {
      "cell_type": "markdown",
      "metadata": {
        "id": "CiZLbibp3uh8"
      },
      "source": [
        "### Pred on test"
      ]
    },
    {
      "cell_type": "code",
      "metadata": {
        "id": "HppDDgwU3uWN"
      },
      "source": [
        "#### Prediction on test\n",
        "output = \"XGB_allFeat.csv\"\n",
        "test[target] = modelXg.predict(X_test)\n",
        "test = test.reset_index()\n",
        "# test[['Patient_ID','Health_Camp_ID']] = test[Key].str.split('|', 1, expand=True)\n",
        "test[[key,target]].to_csv(output,index=False)"
      ],
      "execution_count": null,
      "outputs": []
    },
    {
      "cell_type": "code",
      "metadata": {
        "id": "SoNiMORV4K7U"
      },
      "source": [
        "from google.colab import files\n",
        "files.download(output)"
      ],
      "execution_count": null,
      "outputs": []
    },
    {
      "cell_type": "code",
      "metadata": {
        "id": "sWmKN6lp36Wl"
      },
      "source": [
        "test.Crop_Damage.value_counts(1)"
      ],
      "execution_count": null,
      "outputs": []
    },
    {
      "cell_type": "code",
      "metadata": {
        "id": "hucDf6mk4GBC"
      },
      "source": [
        "train.Crop_Damage.value_counts(1)"
      ],
      "execution_count": null,
      "outputs": []
    }
  ]
}